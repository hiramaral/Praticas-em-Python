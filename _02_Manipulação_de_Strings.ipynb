{
  "nbformat": 4,
  "nbformat_minor": 0,
  "metadata": {
    "colab": {
      "provenance": [],
      "include_colab_link": true
    },
    "kernelspec": {
      "name": "python3",
      "display_name": "Python 3"
    }
  },
  "cells": [
    {
      "cell_type": "markdown",
      "metadata": {
        "id": "view-in-github",
        "colab_type": "text"
      },
      "source": [
        "<a href=\"https://colab.research.google.com/github/hiramaral/Praticas-em-Python/blob/main/_02_Manipula%C3%A7%C3%A3o_de_Strings.ipynb\" target=\"_parent\"><img src=\"https://colab.research.google.com/assets/colab-badge.svg\" alt=\"Open In Colab\"/></a>"
      ]
    },
    {
      "cell_type": "markdown",
      "source": [
        "Autor: Hiram<br>\n",
        "Data: <br>\n",
        "código:"
      ],
      "metadata": {
        "id": "odtXxVzM-qGz"
      }
    },
    {
      "cell_type": "markdown",
      "metadata": {
        "id": "eJbkoKIhVtuf"
      },
      "source": [
        "# Manipulação de strings"
      ]
    },
    {
      "cell_type": "code",
      "metadata": {
        "id": "TspZ9SRGqF1l",
        "colab": {
          "base_uri": "https://localhost:8080/"
        },
        "outputId": "ca53e38a-76b8-42a5-b020-c34b5b5cf03c"
      },
      "source": [
        "a = 'casaco'\n",
        "print(a)"
      ],
      "execution_count": 8,
      "outputs": [
        {
          "output_type": "stream",
          "name": "stdout",
          "text": [
            "casaco\n"
          ]
        }
      ]
    },
    {
      "cell_type": "code",
      "metadata": {
        "id": "ECcuB0rPqNLV",
        "colab": {
          "base_uri": "https://localhost:8080/"
        },
        "outputId": "702ce52c-b1a8-4117-c22f-0de9cd68456f"
      },
      "source": [
        "maiuscula = a.upper()\n",
        "print(maiuscula)"
      ],
      "execution_count": 9,
      "outputs": [
        {
          "output_type": "stream",
          "name": "stdout",
          "text": [
            "CASACO\n"
          ]
        }
      ]
    },
    {
      "cell_type": "code",
      "metadata": {
        "id": "Y7ew8u5nqa0s",
        "colab": {
          "base_uri": "https://localhost:8080/"
        },
        "outputId": "aa04d01f-834a-4720-bcbb-063838148b9e"
      },
      "source": [
        "minuscula = maiuscula.lower()\n",
        "print(minuscula)"
      ],
      "execution_count": 11,
      "outputs": [
        {
          "output_type": "stream",
          "name": "stdout",
          "text": [
            "casaco\n"
          ]
        }
      ]
    },
    {
      "cell_type": "code",
      "metadata": {
        "id": "_n4eG1K3qjIG",
        "colab": {
          "base_uri": "https://localhost:8080/"
        },
        "outputId": "d01422bf-3583-4080-ecaf-bdcb9fc366a7"
      },
      "source": [
        "capital = a.capitalize()\n",
        "print(capital)"
      ],
      "execution_count": 12,
      "outputs": [
        {
          "output_type": "stream",
          "name": "stdout",
          "text": [
            "Casaco\n"
          ]
        }
      ]
    },
    {
      "cell_type": "code",
      "metadata": {
        "id": "7cb8yYi_qukU",
        "colab": {
          "base_uri": "https://localhost:8080/"
        },
        "outputId": "8bdd3624-d90d-49fc-c36b-2b511660d739"
      },
      "source": [
        "metade_palavra = a[0:2]\n",
        "print(metade_palavra)"
      ],
      "execution_count": 19,
      "outputs": [
        {
          "output_type": "stream",
          "name": "stdout",
          "text": [
            "ca\n"
          ]
        }
      ]
    },
    {
      "cell_type": "code",
      "metadata": {
        "id": "M0zabxMJrIfI",
        "colab": {
          "base_uri": "https://localhost:8080/"
        },
        "outputId": "67c7db67-7517-4d62-828a-969835f0592f"
      },
      "source": [
        "ultimas_letras = a[4:]\n",
        "print(ultimas_letras)"
      ],
      "execution_count": 21,
      "outputs": [
        {
          "output_type": "stream",
          "name": "stdout",
          "text": [
            "co\n"
          ]
        }
      ]
    },
    {
      "cell_type": "code",
      "metadata": {
        "id": "F4VyXvoWrT1y",
        "colab": {
          "base_uri": "https://localhost:8080/"
        },
        "outputId": "aafd4eee-89b9-4592-ff3c-62540f00e9a7"
      },
      "source": [
        "b = a.replace('aco', 'inha')\n",
        "print(a)\n",
        "print(b)"
      ],
      "execution_count": 22,
      "outputs": [
        {
          "output_type": "stream",
          "name": "stdout",
          "text": [
            "casaco\n",
            "casinha\n"
          ]
        }
      ]
    },
    {
      "cell_type": "code",
      "metadata": {
        "id": "wKLt-VwLrk8F",
        "colab": {
          "base_uri": "https://localhost:8080/"
        },
        "outputId": "e8e0978d-5b99-4894-d935-bb5505d107f1"
      },
      "source": [
        "c = a.replace('o', 'a')\n",
        "print(c)"
      ],
      "execution_count": 24,
      "outputs": [
        {
          "output_type": "stream",
          "name": "stdout",
          "text": [
            "casaca\n"
          ]
        }
      ]
    },
    {
      "cell_type": "code",
      "metadata": {
        "id": "2k0QLQmirwVa",
        "colab": {
          "base_uri": "https://localhost:8080/"
        },
        "outputId": "81292154-4ba9-4f3b-fecf-91b7b23f4fc2"
      },
      "source": [
        "c.find('s')"
      ],
      "execution_count": 28,
      "outputs": [
        {
          "output_type": "execute_result",
          "data": {
            "text/plain": [
              "2"
            ]
          },
          "metadata": {},
          "execution_count": 28
        }
      ]
    },
    {
      "cell_type": "code",
      "metadata": {
        "id": "4NANRZUyr6Yu",
        "colab": {
          "base_uri": "https://localhost:8080/"
        },
        "outputId": "d362fc07-e7fa-4de6-88f0-8822fc61a93c"
      },
      "source": [
        "c.find('a')"
      ],
      "execution_count": 29,
      "outputs": [
        {
          "output_type": "execute_result",
          "data": {
            "text/plain": [
              "1"
            ]
          },
          "metadata": {},
          "execution_count": 29
        }
      ]
    },
    {
      "cell_type": "code",
      "metadata": {
        "id": "HKvr0t0Ar_gH",
        "colab": {
          "base_uri": "https://localhost:8080/"
        },
        "outputId": "11a3fa8f-aac7-47cb-b531-c9b3109c4236"
      },
      "source": [
        "c.find('b')"
      ],
      "execution_count": 30,
      "outputs": [
        {
          "output_type": "execute_result",
          "data": {
            "text/plain": [
              "-1"
            ]
          },
          "metadata": {},
          "execution_count": 30
        }
      ]
    },
    {
      "cell_type": "code",
      "metadata": {
        "id": "fdYqKZ0bsQoH",
        "colab": {
          "base_uri": "https://localhost:8080/"
        },
        "outputId": "cf997bc6-3d2d-4e0c-c85f-7b9b36930ad2"
      },
      "source": [
        "e = '   casaco de pele'\n",
        "print(len(e))"
      ],
      "execution_count": 36,
      "outputs": [
        {
          "output_type": "stream",
          "name": "stdout",
          "text": [
            "17\n"
          ]
        }
      ]
    },
    {
      "cell_type": "code",
      "metadata": {
        "id": "Hk1OiifYsbwt",
        "colab": {
          "base_uri": "https://localhost:8080/"
        },
        "outputId": "a4e8a78f-5b33-4140-821b-fa3437d68f1d"
      },
      "source": [
        "f = e.strip()\n",
        "print(f)"
      ],
      "execution_count": 37,
      "outputs": [
        {
          "output_type": "stream",
          "name": "stdout",
          "text": [
            "casaco de pele\n"
          ]
        }
      ]
    },
    {
      "cell_type": "code",
      "metadata": {
        "id": "Kalq5EZAsive",
        "colab": {
          "base_uri": "https://localhost:8080/"
        },
        "outputId": "860da571-7a1f-4a74-d3e2-a63ca415d055"
      },
      "source": [
        "print(len(f))"
      ],
      "execution_count": 38,
      "outputs": [
        {
          "output_type": "stream",
          "name": "stdout",
          "text": [
            "14\n"
          ]
        }
      ]
    },
    {
      "cell_type": "code",
      "metadata": {
        "id": "dAiQ-Tvvsq5w"
      },
      "source": [
        "n1 = 14\n",
        "n2 = 16"
      ],
      "execution_count": 39,
      "outputs": []
    },
    {
      "cell_type": "code",
      "metadata": {
        "id": "790k0NTEsuiq",
        "colab": {
          "base_uri": "https://localhost:8080/"
        },
        "outputId": "07d5da8b-8495-4c8c-e1b2-e8de45e51212"
      },
      "source": [
        "print(f'Dividindo {n1} por {n2} o resultado é {n1-n2}')"
      ],
      "execution_count": 43,
      "outputs": [
        {
          "output_type": "stream",
          "name": "stdout",
          "text": [
            "Dividindo 14 por 16 o resultado é -2\n"
          ]
        }
      ]
    }
  ]
}